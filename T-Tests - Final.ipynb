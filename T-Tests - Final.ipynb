{
 "cells": [
  {
   "cell_type": "markdown",
   "metadata": {},
   "source": [
    "# T-Tests"
   ]
  },
  {
   "cell_type": "code",
   "execution_count": 4,
   "metadata": {},
   "outputs": [],
   "source": [
    "from scipy import stats\n",
    "import numpy as np"
   ]
  },
  {
   "cell_type": "code",
   "execution_count": 5,
   "metadata": {},
   "outputs": [],
   "source": [
    "# Logistic Regression Raw Test Results\n",
    "LOGREG_ACC = [0.850042, 0.84659, 0.848119, 0.850913, 0.847466,\n",
    "              0.720400, 0.73000, 0.724267, 0.720200, 0.722933,\n",
    "              0.961267, 0.962467, 0.962867, 0.961933, 0.961867,\n",
    "              0.754182, 0.754182, 0.759224, 0.753682, 0.752227\n",
    "              ]\n",
    "\n",
    "LOGREG_ROC = [0.904451, 0.903426, 0.905164, 0.904053, 0.902377,\n",
    "              0.811108, 0.812500, 0.812471, 0.810595, 0.811377,\n",
    "              0.859269, 0.854011, 0.863343, 0.860515, 0.854739,\n",
    "              0.824484, 0.824716, 0.823864, 0.824396, 0.824663\n",
    "             ]\n",
    "\n",
    "LOGREG_F1 = [0.660087, 0.645955, 0.639449, 0.658182, 0.642760,\n",
    "             0.721069, 0.733693, 0.721631, 0.721777, 0.726363,\n",
    "             0.000000, 0.000000, 0.000000, 0.000000, 0.000000,\n",
    "             0.753143, 0.748730, 0.758968, 0.755063, 0.752054\n",
    "             ]"
   ]
  },
  {
   "cell_type": "code",
   "execution_count": 6,
   "metadata": {},
   "outputs": [],
   "source": [
    "# Random Forest Raw Test Results\n",
    "RF_ACC = [0.849897, 0.851638, 0.851021, 0.853706, 0.850767,\n",
    "          0.946867, 0.945800, 0.951000, 0.944800, 0.941467,\n",
    "          0.985400, 0.988667, 0.990200, 0.988467, 0.989400,\n",
    "          0.823861, 0.826809, 0.826330, 0.820420, 0.820247\n",
    "         ]\n",
    "\n",
    "RF_ROC = [0.900433, 0.903124, 0.900143, 0.905685, 0.903196,\n",
    "          0.990355, 0.991099, 0.991418, 0.990945, 0.989088,\n",
    "          0.996582, 0.996991, 0.997103, 0.997916, 0.996722,\n",
    "          0.901971, 0.904860, 0.903450, 0.903520, 0.899825\n",
    "         ]\n",
    "\n",
    "RF_F1 = [0.658973, 0.659222, 0.661221, 0.667765, 0.669187,\n",
    "         0.946297, 0.945056, 0.950964, 0.944593, 0.940812,\n",
    "         0.781219, 0.837476, 0.855172, 0.824721, 0.846079,\n",
    "         0.822566, 0.826916, 0.823174, 0.817224, 0.820058\n",
    "        ]\n"
   ]
  },
  {
   "cell_type": "code",
   "execution_count": 7,
   "metadata": {},
   "outputs": [],
   "source": [
    "# k-Nearest Neighbors Raw Test Results\n",
    "KNN_ACC = [0.833134, 0.838649, 0.836835, 0.837814, 0.832626,\n",
    "           0.952933, 0.953533, 0.953600, 0.952333, 0.954600,\n",
    "           0.991467, 0.990600, 0.989000, 0.991067, 0.989733,\n",
    "           0.781579, 0.783232, 0.783083, 0.782916, 0.785096\n",
    "           ]\n",
    "\n",
    "KNN_ROC = [0.883103, 0.887285, 0.886553, 0.883853, 0.884475,\n",
    "           0.988659, 0.990085, 0.989743, 0.989118, 0.990496,\n",
    "           0.986908, 0.992086, 0.994596, 0.994232, 0.995394,\n",
    "           0.863367, 0.863243, 0.865375, 0.865189, 0.862883\n",
    "          ]\n",
    "\n",
    "KNN_F1 = [0.600954, 0.620531, 0.622640, 0.634206, 0.612581,\n",
    "          0.952896, 0.953300, 0.953207, 0.951984, 0.954512,\n",
    "          0.885510, 0.874667, 0.856895, 0.880143, 0.864912,\n",
    "          0.775175, 0.782389, 0.785174, 0.781706, 0.785343\n",
    "         ]"
   ]
  },
  {
   "cell_type": "code",
   "execution_count": 14,
   "metadata": {},
   "outputs": [
    {
     "name": "stdout",
     "output_type": "stream",
     "text": [
      "RF/LOGREG ACC T-Test p-value:  0.004253729288668901\n",
      "RF/KNN ACC T-Test p-value: 0.6407620126944318\n",
      "RF/LOGREG ROC T-Test p-value: 6.866849877503236e-09\n",
      "RF/KNN ROC T-Test p-value: 0.3733713354702387\n",
      "RF/LOGREG F1 T-Test p-value: 0.0005271759057562075\n",
      "RF/KNN F1 T-Test p-value: 0.8188297991402745\n"
     ]
    }
   ],
   "source": [
    "# T-Testing\n",
    "\n",
    "# Accuracy\n",
    "print('RF/LOGREG ACC T-Test p-value:','',stats.ttest_ind(RF_ACC,LOGREG_ACC)[1])\n",
    "print('RF/KNN ACC T-Test p-value:', stats.ttest_ind(RF_ACC,KNN_ACC)[1])\n",
    "\n",
    "# ROC\n",
    "print('RF/LOGREG ROC T-Test p-value:', stats.ttest_ind(RF_ROC,LOGREG_ROC)[1])\n",
    "print('RF/KNN ROC T-Test p-value:', stats.ttest_ind(RF_ROC,KNN_ROC)[1])\n",
    "\n",
    "# F1\n",
    "print('RF/LOGREG F1 T-Test p-value:', stats.ttest_ind(RF_F1,LOGREG_F1)[1])\n",
    "print('RF/KNN F1 T-Test p-value:', stats.ttest_ind(RF_F1,KNN_F1)[1])"
   ]
  },
  {
   "cell_type": "code",
   "execution_count": 15,
   "metadata": {},
   "outputs": [],
   "source": [
    "# Raw Test Results by algorithm and dataset\n",
    "\n",
    "# Logistic Regression\n",
    "ADULT_LOGREG = [0.850042, 0.846595, 0.848119, 0.850913, 0.847466,\n",
    "                0.904451, 0.903426, 0.905164, 0.904053, 0.902377,\n",
    "                0.660087, 0.645955, 0.639449, 0.658182, 0.642760]\n",
    "\n",
    "LETTERAM_LOGREG = [0.720400, 0.730000, 0.724267, 0.720200, 0.722933,\n",
    "                   0.811108, 0.812500, 0.812471, 0.810595, 0.811377,\n",
    "                   0.721069, 0.733693, 0.721631, 0.721777, 0.726363]\n",
    "\n",
    "LETTERO_LOGREG = [0.961267, 0.962467, 0.962867, 0.961933, 0.961867,\n",
    "                  0.859269, 0.854011, 0.863343, 0.860515, 0.854739,\n",
    "                  0.000000, 0.000000, 0.000000, 0.000000, 0.000000]\n",
    "\n",
    "COV_LOGREG = [0.754182, 0.754182, 0.759224, 0.753682, 0.752227,\n",
    "              0.824484, 0.824716, 0.823864, 0.824396, 0.824663,\n",
    "              0.753143, 0.748730, 0.758968, 0.755063, 0.752054]\n",
    "\n",
    "# Random Forest\n",
    "ADULT_RF = [0.849897, 0.851638, 0.851021, 0.853706, 0.850767,\n",
    "            0.900433, 0.903124, 0.900143, 0.905685, 0.903196,\n",
    "            0.658973, 0.659222, 0.661221, 0.667765, 0.669187]\n",
    "\n",
    "LETTERAM_RF = [0.946867, 0.945800, 0.951000, 0.944800, 0.941467,\n",
    "               0.990355, 0.991099, 0.991418, 0.990945, 0.989088,\n",
    "               0.946297, 0.945056, 0.950964, 0.944593, 0.940812]\n",
    "\n",
    "LETTERO_RF = [0.985400, 0.988667, 0.990200, 0.988467, 0.989400,\n",
    "              0.996582, 0.996991, 0.997103, 0.997916, 0.996722,\n",
    "              0.781219, 0.837476, 0.855172, 0.824721, 0.846079]\n",
    "\n",
    "COV_RF = [0.823861, 0.826809, 0.826330, 0.820420, 0.820247,\n",
    "          0.901971, 0.904860, 0.903450, 0.903520, 0.899825,\n",
    "          0.822566, 0.826916, 0.823174, 0.817224, 0.820058]\n",
    "\n",
    "# k-Nearest Neighbors\n",
    "ADULT_KNN = [0.833134 , 0.838649 , 0.836835 , 0.837814 , 0.832626,\n",
    "             0.883103 , 0.887285 , 0.886553 , 0.883853 , 0.884475,\n",
    "             0.600954 , 0.620531 , 0.622640 , 0.634206 , 0.612581]\n",
    "\n",
    "LETTERAM_KNN = [0.952933 , 0.953533 , 0.953600 , 0.952333 , 0.954600, \n",
    "                0.988659 , 0.990085 , 0.989743 , 0.989118 , 0.990496,\n",
    "                0.952896 , 0.953300 , 0.953207 , 0.951984 , 0.954512]\n",
    "\n",
    "LETTERO_KNN = [0.991467 , 0.990600 , 0.989000 , 0.991067 , 0.989733, \n",
    "               0.986908 , 0.992086 , 0.994596 , 0.994232 , 0.995394, \n",
    "               0.885510 , 0.874667 , 0.856895 , 0.880143 , 0.864912]\n",
    "\n",
    "COV_KNN = [0.781579 , 0.783232 , 0.783083 , 0.782916 , 0.785096, \n",
    "           0.863367 , 0.863243 , 0.865375 , 0.865189 , 0.862883,\n",
    "           0.775175 , 0.782389 , 0.785174 , 0.781706 , 0.785343]"
   ]
  },
  {
   "cell_type": "code",
   "execution_count": 17,
   "metadata": {},
   "outputs": [
    {
     "name": "stdout",
     "output_type": "stream",
     "text": [
      "RF/LOGREG Adult T-Test p-value: 0.8992668765262741\n",
      "RF/KNN Adult T-Test p-value: 0.53502300632489\n",
      "RF/LOGREG LETTERAM T-Test p-value: 4.4352151596523623e-16\n",
      "RF/KNN LETTERAM T-Test p-value: 0.5255963698629973\n",
      "RF/LOGREG LETTERO T-Test p-value: 0.008548792604881927\n",
      "RF/KNN LETTERO T-Test p-value: 0.6017101748780217\n",
      "RF/LOGREG COV T-Test p-value: 1.0888772891756704e-05\n",
      "RF/KNN COV T-Test p-value: 0.010211795609434735\n"
     ]
    }
   ],
   "source": [
    "# T-Testing\n",
    "\n",
    "# Adult\n",
    "print('RF/LOGREG Adult T-Test p-value:', stats.ttest_ind(ADULT_RF, ADULT_LOGREG)[1])\n",
    "print('RF/KNN Adult T-Test p-value:', stats.ttest_ind(ADULT_RF, ADULT_KNN)[1])\n",
    "\n",
    "# Letters A-M\n",
    "print('RF/LOGREG LETTERAM T-Test p-value:', stats.ttest_ind(LETTERAM_RF, LETTERAM_LOGREG)[1])\n",
    "print('RF/KNN LETTERAM T-Test p-value:', stats.ttest_ind(LETTERAM_RF, LETTERAM_KNN)[1])\n",
    "\n",
    "# Letters O\n",
    "print('RF/LOGREG LETTERO T-Test p-value:', stats.ttest_ind(LETTERO_RF, LETTERO_LOGREG)[1])\n",
    "print('RF/KNN LETTERO T-Test p-value:', stats.ttest_ind(LETTERO_RF, LETTERO_KNN)[1])\n",
    "\n",
    "# Cover Type\n",
    "print('RF/LOGREG COV T-Test p-value:', stats.ttest_ind(COV_RF, COV_LOGREG)[1])\n",
    "print('RF/KNN COV T-Test p-value:', stats.ttest_ind(COV_RF, COV_KNN)[1])"
   ]
  }
 ],
 "metadata": {
  "kernelspec": {
   "display_name": "Python 3",
   "language": "python",
   "name": "python3"
  },
  "language_info": {
   "codemirror_mode": {
    "name": "ipython",
    "version": 3
   },
   "file_extension": ".py",
   "mimetype": "text/x-python",
   "name": "python",
   "nbconvert_exporter": "python",
   "pygments_lexer": "ipython3",
   "version": "3.8.3"
  }
 },
 "nbformat": 4,
 "nbformat_minor": 4
}
